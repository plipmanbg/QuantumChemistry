{
  "nbformat": 4,
  "nbformat_minor": 0,
  "metadata": {
    "colab": {
      "name": "LiH Geometry.ipynb",
      "provenance": [],
      "collapsed_sections": [],
      "authorship_tag": "ABX9TyOisBSqoGQJzesiEeIh4Ngu",
      "include_colab_link": true
    },
    "kernelspec": {
      "name": "python3",
      "display_name": "Python 3"
    },
    "language_info": {
      "name": "python"
    }
  },
  "cells": [
    {
      "cell_type": "markdown",
      "metadata": {
        "id": "view-in-github",
        "colab_type": "text"
      },
      "source": [
        "<a href=\"https://colab.research.google.com/github/plipmanbg/QuantumChemistry/blob/main/LiH_Geometry.ipynb\" target=\"_parent\"><img src=\"https://colab.research.google.com/assets/colab-badge.svg\" alt=\"Open In Colab\"/></a>"
      ]
    },
    {
      "cell_type": "markdown",
      "metadata": {
        "id": "cCypb9CkbUXG"
      },
      "source": [
        "**Optimize geometry of LiH**\n",
        "\n",
        "Follows Pennylane adaptive circuit tutorial to obtain circuit, and molecular geometry tutorial to optimize geometry"
      ]
    },
    {
      "cell_type": "code",
      "metadata": {
        "id": "9nbeRa8rnm2M"
      },
      "source": [
        "!pip install pennylane &> /dev/null"
      ],
      "execution_count": null,
      "outputs": []
    },
    {
      "cell_type": "code",
      "metadata": {
        "id": "UelrgOixiZxq"
      },
      "source": [
        "!pip install pennylane-qchem &> /dev/null"
      ],
      "execution_count": null,
      "outputs": []
    },
    {
      "cell_type": "code",
      "metadata": {
        "id": "tqePEXqKnS29"
      },
      "source": [
        "from pennylane import numpy as np\n",
        "import pennylane as qml"
      ],
      "execution_count": null,
      "outputs": []
    },
    {
      "cell_type": "code",
      "metadata": {
        "id": "NppXsm80RXk6"
      },
      "source": [
        "from pennylane import qchem"
      ],
      "execution_count": null,
      "outputs": []
    },
    {
      "cell_type": "code",
      "metadata": {
        "id": "qKWsnkyhjBsl"
      },
      "source": [
        "# Set up the molecule. Geometry coordinates from CCCBDB\n",
        "\n",
        "symbols = [\"Li\", \"H\"]\n",
        "geometry = np.array([0.0,0.0,0.0,0.0,0.0,3.064], requires_grad=True)"
      ],
      "execution_count": null,
      "outputs": []
    },
    {
      "cell_type": "markdown",
      "metadata": {
        "id": "cLHwU1yIuJpM"
      },
      "source": [
        "Now create the circuit using https://pennylane.ai/qml/demos/tutorial_adaptive_circuits.html"
      ]
    },
    {
      "cell_type": "markdown",
      "metadata": {
        "id": "Osd-SpI7Z1bs"
      },
      "source": [
        "First - compute the Hamiltonian and calculate the single and double electron excitations (maybe also try looking at 3 & 4 excitations to see what effect it has on accuracy?)."
      ]
    },
    {
      "cell_type": "code",
      "metadata": {
        "id": "zDVJAlPwZlY8"
      },
      "source": [
        "active_electrons = 2\n",
        "active_orbitals = 5\n",
        "\n",
        "H, qubits = qchem.molecular_hamiltonian(\n",
        "    symbols,\n",
        "    geometry,\n",
        "    active_electrons=active_electrons, # figure out how to get this\n",
        "    active_orbitals=active_orbitals # figure out how to get this\n",
        ")\n",
        "\n",
        "singles, doubles = qchem.excitations(active_electrons, qubits)"
      ],
      "execution_count": null,
      "outputs": []
    },
    {
      "cell_type": "code",
      "metadata": {
        "colab": {
          "base_uri": "https://localhost:8080/"
        },
        "id": "9qF8R7kRisJ7",
        "outputId": "20624f88-73a6-4203-f5be-fea561a85a8f"
      },
      "source": [
        "print(qubits)"
      ],
      "execution_count": null,
      "outputs": [
        {
          "output_type": "stream",
          "name": "stdout",
          "text": [
            "10\n"
          ]
        }
      ]
    },
    {
      "cell_type": "code",
      "metadata": {
        "colab": {
          "base_uri": "https://localhost:8080/"
        },
        "id": "vV3E-VzMbq8u",
        "outputId": "96a37f1e-96f0-43ea-b860-5ac47a6e11b4"
      },
      "source": [
        "print(singles)"
      ],
      "execution_count": null,
      "outputs": [
        {
          "output_type": "stream",
          "name": "stdout",
          "text": [
            "[[0, 2], [0, 4], [0, 6], [0, 8], [1, 3], [1, 5], [1, 7], [1, 9]]\n"
          ]
        }
      ]
    },
    {
      "cell_type": "code",
      "metadata": {
        "colab": {
          "base_uri": "https://localhost:8080/"
        },
        "id": "oMQhe_-7bw8p",
        "outputId": "473e78f4-aba0-4825-ef74-4a2b38d324d3"
      },
      "source": [
        "print(doubles)"
      ],
      "execution_count": null,
      "outputs": [
        {
          "output_type": "stream",
          "name": "stdout",
          "text": [
            "[[0, 1, 2, 3], [0, 1, 2, 5], [0, 1, 2, 7], [0, 1, 2, 9], [0, 1, 3, 4], [0, 1, 3, 6], [0, 1, 3, 8], [0, 1, 4, 5], [0, 1, 4, 7], [0, 1, 4, 9], [0, 1, 5, 6], [0, 1, 5, 8], [0, 1, 6, 7], [0, 1, 6, 9], [0, 1, 7, 8], [0, 1, 8, 9]]\n"
          ]
        }
      ]
    },
    {
      "cell_type": "markdown",
      "metadata": {
        "id": "JbgjpJ3xaXRx"
      },
      "source": [
        "Get the Hartree-Fock state"
      ]
    },
    {
      "cell_type": "code",
      "metadata": {
        "colab": {
          "base_uri": "https://localhost:8080/"
        },
        "id": "bWbHpJXwbKqL",
        "outputId": "288b7746-48a5-478e-9088-ec60e20357bf"
      },
      "source": [
        "hf_state = qchem.hf_state(active_electrons, qubits)\n",
        "print(hf_state)"
      ],
      "execution_count": null,
      "outputs": [
        {
          "output_type": "stream",
          "name": "stdout",
          "text": [
            "[1 1 0 0 0 0 0 0 0 0]\n"
          ]
        }
      ]
    },
    {
      "cell_type": "markdown",
      "metadata": {
        "id": "qnmwO_--bVa0"
      },
      "source": [
        "Build the circuit:\n",
        "\n",
        "\n",
        "\n",
        "1.   Compute gradients for all double excitations\n",
        "2.   Select the double excitations with \n",
        "gradients larger than a pre-defined threshold\n",
        "\n",
        "1.   Select the double excitations with \n",
        "gradients larger than a pre-defined threshold\n",
        "2.   Perform VQE to obtain the optimized parameters for the selected double excitations\n",
        "\n",
        "1.   Repeat steps 1 and 2 for the single excitations"
      ]
    },
    {
      "cell_type": "code",
      "metadata": {
        "id": "EOtNBQFMbR15"
      },
      "source": [
        "# This function builds the circuit based on the set of parameters passed below\n",
        "# Wires - i.e. qubits in the circuit, and specific qubit excitations\n",
        "\n",
        "def circuit_1(params, wires, excitations):\n",
        "\n",
        "    qml.BasisState(hf_state, wires=wires)\n",
        "\n",
        "    for i, excitation in enumerate(excitations):\n",
        "        if len(excitation) == 4: #double excitations have four entries\n",
        "            qml.DoubleExcitation(params[i], wires=excitation)\n",
        "        else:\n",
        "            qml.SingleExcitation(params[i], wires=excitation) #two entries each"
      ],
      "execution_count": null,
      "outputs": []
    },
    {
      "cell_type": "code",
      "metadata": {
        "colab": {
          "base_uri": "https://localhost:8080/"
        },
        "id": "TTxTorpOcV31",
        "outputId": "3be02dd5-bf99-43bf-bdc9-e61095b9977d"
      },
      "source": [
        "# specify the device\n",
        "dev = qml.device(\"default.qubit\", wires=qubits)\n",
        "\n",
        "# cost function calculate the expectation value of the Hamiltonian based on the\n",
        "# ansatz which is the circuit\n",
        "cost_fn = qml.ExpvalCost(circuit_1, H, dev, optimize=True)\n",
        "\n",
        "# # get the gradient of the cost function\n",
        "circuit_gradient = qml.grad(cost_fn, argnum=0)\n",
        "\n",
        "# # initialize parameters to zero so gradients computed from HF state\n",
        "params = [0.0] * len(doubles)\n",
        "\n",
        "# #calculate the gradient for the double excitations\n",
        "# this one actually calls the circuit_1 function\n",
        "grads = circuit_gradient(params, excitations=doubles)\n",
        "\n",
        "for i in range(len(doubles)):\n",
        "    print(f\"Excitation : {doubles[i]}, Gradient: {grads[i]}\")"
      ],
      "execution_count": null,
      "outputs": [
        {
          "output_type": "stream",
          "name": "stdout",
          "text": [
            "Excitation : [0, 1, 2, 3], Gradient: -0.013282692971956422\n",
            "Excitation : [0, 1, 2, 5], Gradient: -2.1684043449710084e-19\n",
            "Excitation : [0, 1, 2, 7], Gradient: 3.2526065174565114e-19\n",
            "Excitation : [0, 1, 2, 9], Gradient: 0.03486133571916371\n",
            "Excitation : [0, 1, 3, 4], Gradient: 4.065758146820643e-20\n",
            "Excitation : [0, 1, 3, 6], Gradient: -1.3552527156068803e-19\n",
            "Excitation : [0, 1, 3, 8], Gradient: -0.034861335719163965\n",
            "Excitation : [0, 1, 4, 5], Gradient: -0.02330625477597942\n",
            "Excitation : [0, 1, 4, 7], Gradient: 0.0\n",
            "Excitation : [0, 1, 4, 9], Gradient: 0.0\n",
            "Excitation : [0, 1, 5, 6], Gradient: 0.0\n",
            "Excitation : [0, 1, 5, 8], Gradient: 2.1684043449710118e-19\n",
            "Excitation : [0, 1, 6, 7], Gradient: -0.02330625477597944\n",
            "Excitation : [0, 1, 6, 9], Gradient: 0.0\n",
            "Excitation : [0, 1, 7, 8], Gradient: -1.8973538018496287e-19\n",
            "Excitation : [0, 1, 8, 9], Gradient: -0.12416373075295714\n"
          ]
        }
      ]
    },
    {
      "cell_type": "code",
      "metadata": {
        "colab": {
          "base_uri": "https://localhost:8080/"
        },
        "id": "uI2S04Z7gyzb",
        "outputId": "e9a00ff5-ec8f-40d4-d6f6-1e95d6e88f8f"
      },
      "source": [
        "# Just keep the double excitations that have gradients > 10^-5\n",
        "\n",
        "doubles_select = [doubles[i] for i in range(len(doubles)) if abs(grads[i]) > 1.0e-5]\n",
        "doubles_select"
      ],
      "execution_count": null,
      "outputs": [
        {
          "output_type": "execute_result",
          "data": {
            "text/plain": [
              "[[0, 1, 2, 3],\n",
              " [0, 1, 2, 9],\n",
              " [0, 1, 3, 8],\n",
              " [0, 1, 4, 5],\n",
              " [0, 1, 6, 7],\n",
              " [0, 1, 8, 9]]"
            ]
          },
          "metadata": {},
          "execution_count": 13
        }
      ]
    },
    {
      "cell_type": "code",
      "metadata": {
        "id": "WOGyjz6cmXr3"
      },
      "source": [
        "# Calculate the parameters (params_doubles) for each of the double excitation gates\n",
        "# using gradient descent to find the lowest expectation value of H on circuit_1\n",
        "# having applied the selected double excitations\n",
        "\n",
        "opt = qml.GradientDescentOptimizer(stepsize=0.5)\n",
        "\n",
        "params_doubles = np.zeros(len(doubles_select), requires_grad=True)\n",
        "\n",
        "for n in range(20):\n",
        "    params_doubles = opt.step(cost_fn, params_doubles, excitations=doubles_select)"
      ],
      "execution_count": null,
      "outputs": []
    },
    {
      "cell_type": "code",
      "metadata": {
        "id": "y2kr8xZjoGwH"
      },
      "source": [
        "# Create new circuit that applies the selected gates based on the gradients\n",
        "# determined above gradient threshold and pass those gates the parameters\n",
        "# calculated in the GDO process\n",
        "\n",
        "def circuit_2(params, wires, excitations, gates_select, params_select):\n",
        "    qml.BasisState(hf_state, wires=wires)\n",
        "\n",
        "    # apply the selected gates and apply parameters\n",
        "    \n",
        "    for i, gate in enumerate(gates_select):\n",
        "        if len(gate) == 4:\n",
        "            qml.DoubleExcitation(params_select[i], wires=gate)\n",
        "        elif len(gate) == 2:\n",
        "            qml.SingleExcitation(params_select[i], wires=gate)\n",
        "\n",
        "    for i, gate in enumerate(excitations):\n",
        "        if len(gate) == 4:\n",
        "            qml.DoubleExcitation(params[i], wires=gate)\n",
        "        elif len(gate) == 2:\n",
        "            qml.SingleExcitation(params[i], wires=gate)"
      ],
      "execution_count": null,
      "outputs": []
    },
    {
      "cell_type": "code",
      "metadata": {
        "colab": {
          "base_uri": "https://localhost:8080/"
        },
        "id": "Dlbi0W0NpFTE",
        "outputId": "65c28701-1882-459c-ee00-c5d40379fc83"
      },
      "source": [
        "# Now compute gradients for single excitations, in same way we did for the\n",
        "# double excitations\n",
        "\n",
        "# cost function calculate the expectation value of the Hamiltonian based on the\n",
        "# ansatz which is the circuit\n",
        "cost_fn = qml.ExpvalCost(circuit_2, H, dev, optimize=True)\n",
        "\n",
        "# get the gradient of the cost function\n",
        "circuit_gradient = qml.grad(cost_fn, argnum=0)\n",
        "\n",
        "# initialize parameters to zero so gradients computed from HF state\n",
        "# note that we're only doing this for the single excitations as the \n",
        "# doubles are already fixed\n",
        "params = [0.0] * len(singles)\n",
        "\n",
        "# calculate the gradient for the single excitations, but with the previously\n",
        "# computed double excitations held constant. Note that circuit_2 takes the\n",
        "# following parameters: params, wires, excitations, gates_select, params_select\n",
        "\n",
        "grads = circuit_gradient(\n",
        "    params,\n",
        "    excitations=singles,\n",
        "    gates_select = doubles_select,\n",
        "    params_select = params_doubles)\n",
        "\n",
        "for i in range(len(singles)):\n",
        "    print(f\"Excitation : {singles[i]}, Gradient: {grads[i]}\")"
      ],
      "execution_count": null,
      "outputs": [
        {
          "output_type": "stream",
          "name": "stdout",
          "text": [
            "Excitation : [0, 2], Gradient: -0.005146190384624545\n",
            "Excitation : [0, 4], Gradient: -1.4675863503195058e-17\n",
            "Excitation : [0, 6], Gradient: 7.690800194090734e-19\n",
            "Excitation : [0, 8], Gradient: -0.000980381946160425\n",
            "Excitation : [1, 3], Gradient: 0.004997627978515387\n",
            "Excitation : [1, 5], Gradient: -5.784431962375564e-19\n",
            "Excitation : [1, 7], Gradient: -3.0538143873782976e-18\n",
            "Excitation : [1, 9], Gradient: 0.0015198027890503626\n"
          ]
        }
      ]
    },
    {
      "cell_type": "code",
      "metadata": {
        "colab": {
          "base_uri": "https://localhost:8080/"
        },
        "id": "ydkNw9Q9qEZJ",
        "outputId": "bc21dfa4-502b-4b5c-f223-6eb1219904c6"
      },
      "source": [
        "singles_select = [singles[i] for i in range(len(singles)) if abs(grads[i]) > 1.0e-5]\n",
        "singles_select"
      ],
      "execution_count": null,
      "outputs": [
        {
          "output_type": "execute_result",
          "data": {
            "text/plain": [
              "[[0, 2], [0, 8], [1, 3], [1, 9]]"
            ]
          },
          "metadata": {},
          "execution_count": 17
        }
      ]
    },
    {
      "cell_type": "code",
      "metadata": {
        "colab": {
          "base_uri": "https://localhost:8080/"
        },
        "id": "60M-hG-lzVPu",
        "outputId": "38e82693-20c7-40e6-93ed-f0c70ad6666c"
      },
      "source": [
        "excitations = doubles_select + singles_select\n",
        "excitations"
      ],
      "execution_count": null,
      "outputs": [
        {
          "output_type": "execute_result",
          "data": {
            "text/plain": [
              "[[0, 1, 2, 3],\n",
              " [0, 1, 2, 9],\n",
              " [0, 1, 3, 8],\n",
              " [0, 1, 4, 5],\n",
              " [0, 1, 6, 7],\n",
              " [0, 1, 8, 9],\n",
              " [0, 2],\n",
              " [0, 8],\n",
              " [1, 3],\n",
              " [1, 9]]"
            ]
          },
          "metadata": {},
          "execution_count": 18
        }
      ]
    },
    {
      "cell_type": "code",
      "metadata": {
        "colab": {
          "base_uri": "https://localhost:8080/"
        },
        "id": "lLnT6xkcnt2I",
        "outputId": "63158beb-142a-434c-c048-abb045fd7588"
      },
      "source": [
        "cost_fn = qml.ExpvalCost(circuit_1, H, dev, optimize=True)\n",
        "\n",
        "params = np.zeros(len(doubles_select + singles_select), requires_grad=True)\n",
        "\n",
        "gates_select = doubles_select + singles_select\n",
        "\n",
        "for n in range(20):\n",
        "    params, energy = opt.step_and_cost(cost_fn, params, excitations=gates_select)\n",
        "    print(\"n = {:},  E = {:.8f} H\".format(n, energy))"
      ],
      "execution_count": null,
      "outputs": [
        {
          "output_type": "stream",
          "name": "stdout",
          "text": [
            "n = 0,  E = -7.86109478 H\n",
            "n = 1,  E = -7.86949977 H\n",
            "n = 2,  E = -7.87434711 H\n",
            "n = 3,  E = -7.87715002 H\n",
            "n = 4,  E = -7.87878428 H\n",
            "n = 5,  E = -7.87974964 H\n",
            "n = 6,  E = -7.88032993 H\n",
            "n = 7,  E = -7.88068655 H\n",
            "n = 8,  E = -7.88091179 H\n",
            "n = 9,  E = -7.88105877 H\n",
            "n = 10,  E = -7.88115837 H\n",
            "n = 11,  E = -7.88122874 H\n",
            "n = 12,  E = -7.88128070 H\n",
            "n = 13,  E = -7.88132074 H\n",
            "n = 14,  E = -7.88135286 H\n",
            "n = 15,  E = -7.88137955 H\n",
            "n = 16,  E = -7.88140237 H\n",
            "n = 17,  E = -7.88142234 H\n",
            "n = 18,  E = -7.88144014 H\n",
            "n = 19,  E = -7.88145621 H\n"
          ]
        }
      ]
    },
    {
      "cell_type": "code",
      "metadata": {
        "colab": {
          "base_uri": "https://localhost:8080/"
        },
        "id": "h8yzsYRQoWOV",
        "outputId": "273e3540-333d-4c34-944f-9f57961faac2"
      },
      "source": [
        "params"
      ],
      "execution_count": null,
      "outputs": [
        {
          "output_type": "execute_result",
          "data": {
            "text/plain": [
              "tensor([ 0.0530969 , -0.1060742 ,  0.10604959,  0.05275959,  0.05277617,\n",
              "         0.2361398 ,  0.02649252,  0.00483553, -0.02614315, -0.00459074], requires_grad=True)"
            ]
          },
          "metadata": {},
          "execution_count": 20
        }
      ]
    },
    {
      "cell_type": "markdown",
      "metadata": {
        "id": "Gd2MspiurS-D"
      },
      "source": [
        "**Now we do the geometry and energy optimization**\n"
      ]
    },
    {
      "cell_type": "code",
      "metadata": {
        "id": "vGD1gfOd6iZr"
      },
      "source": [
        "x = np.array([0.0,0.0,0.0,0.0,0.0,3.064], requires_grad=True)"
      ],
      "execution_count": null,
      "outputs": []
    },
    {
      "cell_type": "code",
      "metadata": {
        "id": "BxZViwVEnZR4"
      },
      "source": [
        "# Get the Hamiltonian for the molecule, based on x (position of nuclei)\n",
        "# This is different from the earlier code where we weren't changing positions\n",
        "\n",
        "def H(x):\n",
        "    return qml.qchem.molecular_hamiltonian(symbols,\n",
        "                                           x,\n",
        "                                           active_electrons=active_electrons, # figure out how to get this\n",
        "                                           active_orbitals=active_orbitals, # figure out how to get this\n",
        "                                           charge=0)[0]"
      ],
      "execution_count": null,
      "outputs": []
    },
    {
      "cell_type": "code",
      "metadata": {
        "id": "Sicu5ACAnhhw",
        "colab": {
          "base_uri": "https://localhost:8080/"
        },
        "outputId": "83041fb1-39c9-4cd0-f7e5-8ba8d8247984"
      },
      "source": [
        "# we made the HF state earlier, doing it here again\n",
        "\n",
        "hf = qchem.hf_state(active_electrons, qubits)\n",
        "print(hf)"
      ],
      "execution_count": null,
      "outputs": [
        {
          "output_type": "stream",
          "name": "stdout",
          "text": [
            "[1 1 0 0 0 0 0 0 0 0]\n"
          ]
        }
      ]
    },
    {
      "cell_type": "code",
      "metadata": {
        "colab": {
          "base_uri": "https://localhost:8080/"
        },
        "id": "8HD69aECZWhO",
        "outputId": "60cdf939-a105-4483-9c6f-d73d30dd32ef"
      },
      "source": [
        "print(qubits)"
      ],
      "execution_count": null,
      "outputs": [
        {
          "output_type": "stream",
          "name": "stdout",
          "text": [
            "10\n"
          ]
        }
      ]
    },
    {
      "cell_type": "code",
      "metadata": {
        "id": "AE4l6s2v2oK1",
        "colab": {
          "base_uri": "https://localhost:8080/"
        },
        "outputId": "3eb6f59b-69d5-4d62-f9fe-7da083694971"
      },
      "source": [
        "num_wires = qubits\n",
        "dev = qml.device(\"default.qubit\", wires=num_wires)\n",
        "print(num_wires)"
      ],
      "execution_count": null,
      "outputs": [
        {
          "output_type": "stream",
          "name": "stdout",
          "text": [
            "10\n"
          ]
        }
      ]
    },
    {
      "cell_type": "code",
      "metadata": {
        "id": "QFqvelYtoTzv"
      },
      "source": [
        "@qml.qnode(dev)\n",
        "def circuit(params, obs, wires):\n",
        "    qml.BasisState(hf, wires=wires)\n",
        "\n",
        "    #added this code, replacing hard-coded excitations in tutorial\n",
        "\n",
        "    for i, excitation in enumerate(excitations):\n",
        "        if len(excitation) == 4:\n",
        "            qml.DoubleExcitation(params[i], wires=excitation)\n",
        "        else:\n",
        "            qml.SingleExcitation(params[i], wires=excitation) \n",
        "    \n",
        "    return qml.expval(obs)"
      ],
      "execution_count": null,
      "outputs": []
    },
    {
      "cell_type": "code",
      "metadata": {
        "id": "xwgrL_lFoXnX"
      },
      "source": [
        "# Get the expectation value of the Hamiltonian, based on the excitation\n",
        "# parameters and the x (position) value. A call to 'circuit' returns\n",
        "# the expectation value of measuring the Hamiltonian\n",
        "\n",
        "# NOTE: find a way to not have to pass the excitations each time?\n",
        "\n",
        "def cost(params, x):\n",
        "    hamiltonian = H(x)\n",
        "    return circuit(params, obs=hamiltonian, wires=range(num_wires))"
      ],
      "execution_count": null,
      "outputs": []
    },
    {
      "cell_type": "markdown",
      "metadata": {
        "id": "OI19SG6yrOc5"
      },
      "source": [
        "Explanation of [qml.finite_diff](https://pennylane.readthedocs.io/en/stable/code/api/pennylane.finite_diff.html#pennylane.finite_diff)"
      ]
    },
    {
      "cell_type": "code",
      "metadata": {
        "id": "ke8e5uK5oa96"
      },
      "source": [
        "# Find the partial differential of H w.r.t. x\n",
        "\n",
        "def grad_x(params, x):\n",
        "    grad_h = qml.finite_diff(H)(x)\n",
        "    grad = [circuit(params, obs=obs, wires=range(num_wires)) for obs in grad_h]\n",
        "    return np.array(grad)"
      ],
      "execution_count": null,
      "outputs": []
    },
    {
      "cell_type": "code",
      "metadata": {
        "id": "XfzPvaNBod7g"
      },
      "source": [
        "# Experiment with different step sizes?\n",
        "\n",
        "opt_theta = qml.GradientDescentOptimizer(stepsize=0.4)\n",
        "opt_x = qml.GradientDescentOptimizer(stepsize=0.8)"
      ],
      "execution_count": null,
      "outputs": []
    },
    {
      "cell_type": "code",
      "metadata": {
        "id": "cDLtKAPyogVE",
        "colab": {
          "base_uri": "https://localhost:8080/"
        },
        "outputId": "155215a2-3497-47a4-9303-dd9c4898b1d9"
      },
      "source": [
        "theta = np.zeros(len(excitations), requires_grad=True)\n",
        "len(theta)"
      ],
      "execution_count": null,
      "outputs": [
        {
          "output_type": "execute_result",
          "data": {
            "text/plain": [
              "10"
            ]
          },
          "metadata": {},
          "execution_count": 30
        }
      ]
    },
    {
      "cell_type": "code",
      "metadata": {
        "id": "gBjsJJ0f0vIV"
      },
      "source": [
        "from functools import partial\n",
        "\n",
        "# store the values of the cost function\n",
        "energy = []\n",
        "\n",
        "# store the values of the bond length\n",
        "bond_length = []\n",
        "\n",
        "# Factor to convert from Bohrs to Angstroms\n",
        "bohr_angs = 0.529177210903"
      ],
      "execution_count": null,
      "outputs": []
    },
    {
      "cell_type": "code",
      "metadata": {
        "id": "s8K35eBothaj",
        "colab": {
          "base_uri": "https://localhost:8080/"
        },
        "outputId": "9ab9514c-fb4c-422a-88b9-8c1494f35682"
      },
      "source": [
        "for n in range(100):\n",
        "\n",
        "    # Optimize the circuit parameters\n",
        "    theta.requires_grad = True\n",
        "    x.requires_grad = False\n",
        "    theta, _ = opt_theta.step(cost, theta, x)\n",
        "\n",
        "    # Optimize the nuclear coordinates\n",
        "    x.requires_grad = True\n",
        "    theta.requires_grad = False\n",
        "    _, x = opt_x.step(cost, theta, x, grad_fn=grad_x)\n",
        "\n",
        "    energy.append(cost(theta, x))\n",
        "    bond_length.append(np.linalg.norm(x[0:3] - x[3:6]) * bohr_angs)\n",
        "\n",
        "    if n % 4 == 0:\n",
        "        print(f\"Step = {n},  E = {energy[-1]:.8f} Ha,  bond length = {bond_length[-1]:.5f} A\")\n",
        "\n",
        "    # Check maximum component of the nuclear gradient\n",
        "    if np.max(grad_x(theta, x)) <= 1e-05:\n",
        "        break\n",
        "\n",
        "print(\"\\n\" f\"Final value of the ground-state energy = {energy[-1]:.8f} Ha\")\n",
        "print(\"\\n\" \"Ground-state equilibrium geometry\")\n",
        "print(\"%s %4s %8s %8s\" % (\"symbol\", \"x\", \"y\", \"z\"))\n",
        "for i, atom in enumerate(symbols):\n",
        "    print(f\"  {atom}    {x[3 * i]:.4f}   {x[3 * i + 1]:.4f}   {x[3 * i + 2]:.4f}\")"
      ],
      "execution_count": null,
      "outputs": [
        {
          "output_type": "stream",
          "name": "stdout",
          "text": [
            "Step = 0,  E = -7.86860562 Ha,  bond length = 1.60439 A\n",
            "Step = 4,  E = -7.87982617 Ha,  bond length = 1.56358 A\n",
            "Step = 8,  E = -7.88172074 Ha,  bond length = 1.54899 A\n",
            "Step = 12,  E = -7.88211287 Ha,  bond length = 1.54475 A\n",
            "Step = 16,  E = -7.88224069 Ha,  bond length = 1.54401 A\n",
            "Step = 20,  E = -7.88230766 Ha,  bond length = 1.54429 A\n",
            "Step = 24,  E = -7.88235358 Ha,  bond length = 1.54477 A\n",
            "Step = 28,  E = -7.88238863 Ha,  bond length = 1.54520 A\n",
            "Step = 32,  E = -7.88241646 Ha,  bond length = 1.54555 A\n",
            "Step = 36,  E = -7.88243890 Ha,  bond length = 1.54582 A\n",
            "Step = 40,  E = -7.88245710 Ha,  bond length = 1.54603 A\n",
            "Step = 44,  E = -7.88247192 Ha,  bond length = 1.54619 A\n",
            "Step = 48,  E = -7.88248400 Ha,  bond length = 1.54633 A\n",
            "Step = 52,  E = -7.88249385 Ha,  bond length = 1.54644 A\n",
            "Step = 56,  E = -7.88250189 Ha,  bond length = 1.54653 A\n",
            "Step = 60,  E = -7.88250845 Ha,  bond length = 1.54661 A\n",
            "Step = 64,  E = -7.88251381 Ha,  bond length = 1.54669 A\n",
            "Step = 68,  E = -7.88251819 Ha,  bond length = 1.54675 A\n",
            "Step = 72,  E = -7.88252177 Ha,  bond length = 1.54681 A\n",
            "Step = 76,  E = -7.88252469 Ha,  bond length = 1.54686 A\n",
            "Step = 80,  E = -7.88252708 Ha,  bond length = 1.54691 A\n",
            "Step = 84,  E = -7.88252904 Ha,  bond length = 1.54695 A\n",
            "\n",
            "Final value of the ground-state energy = -7.88252947 Ha\n",
            "\n",
            "Ground-state equilibrium geometry\n",
            "symbol    x        y        z\n",
            "  Li    0.0000   0.0000   0.0703\n",
            "  H    0.0000   0.0000   2.9937\n"
          ]
        }
      ]
    },
    {
      "cell_type": "code",
      "metadata": {
        "id": "j9-o_SZ2q_UK",
        "colab": {
          "base_uri": "https://localhost:8080/",
          "height": 345
        },
        "outputId": "3b517156-0993-4afb-efc2-3a2dd67e99e8"
      },
      "source": [
        "import matplotlib.pyplot as plt\n",
        "\n",
        "fig = plt.figure()\n",
        "fig.set_figheight(5)\n",
        "fig.set_figwidth(12)\n",
        "\n",
        "# Add energy plot on column 1\n",
        "E_fci = -7.88\n",
        "E_vqe = np.array(energy)\n",
        "ax1 = fig.add_subplot(121)\n",
        "ax1.plot(range(n+1), E_vqe-E_fci, 'go-', ls='dashed')\n",
        "ax1.plot(range(n+1), np.full(n+1, 0.001), color='red')\n",
        "ax1.set_xlabel(\"Optimization step\", fontsize=13)\n",
        "ax1.set_ylabel(\"$E_{VQE} - E_{FCI}$ (Hartree)\", fontsize=13)\n",
        "# ax1.text(5, 0.0013, r'Chemical accuracy', fontsize=13)\n",
        "plt.yscale(\"log\")\n",
        "plt.xticks(fontsize=12)\n",
        "plt.yticks(fontsize=12)\n",
        "\n",
        "# Add bond length plot on column 2\n",
        "d_fci = 1.595 # https://cccbdb.nist.gov/bondlengthmodel2.asp?method=12&basis=5\n",
        "ax2 = fig.add_subplot(122)\n",
        "ax2.plot(range(n+1), bond_length, 'go-', ls='dashed')\n",
        "ax2.plot(range(n+1), np.full(n+1, d_fci), color='red')\n",
        "ax2.set_ylim([1.54,1.6])\n",
        "ax2.set_xlabel(\"Optimization step\", fontsize=13)\n",
        "ax2.set_ylabel(\"bond length ($\\AA$)\", fontsize=13)\n",
        "# ax2.text(5, 0.9865, r'Equilibrium bond length', fontsize=13)\n",
        "plt.xticks(fontsize=12)\n",
        "plt.yticks(fontsize=12)\n",
        "\n",
        "plt.subplots_adjust(wspace=0.3)\n",
        "plt.show()"
      ],
      "execution_count": null,
      "outputs": [
        {
          "output_type": "display_data",
          "data": {
            "image/png": "[encoded data removed]",
            "text/plain": [
              "<Figure size 864x360 with 2 Axes>"
            ]
          },
          "metadata": {
            "needs_background": "light"
          }
        }
      ]
    }
  ]
}